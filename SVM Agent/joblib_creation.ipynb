{
 "cells": [
  {
   "cell_type": "code",
   "execution_count": 1,
   "id": "f6603649",
   "metadata": {},
   "outputs": [
    {
     "data": {
      "text/plain": [
       "['svm_stroke_scaler.joblib']"
      ]
     },
     "execution_count": 1,
     "metadata": {},
     "output_type": "execute_result"
    }
   ],
   "source": [
    "import pandas as pd\n",
    "import numpy as np\n",
    "from sklearn.model_selection import train_test_split\n",
    "from sklearn.svm import SVC\n",
    "from sklearn.preprocessing import StandardScaler, LabelEncoder\n",
    "from sklearn.pipeline import Pipeline\n",
    "from sklearn.compose import ColumnTransformer\n",
    "from sklearn.impute import SimpleImputer\n",
    "import joblib\n",
    "\n",
    "# Veriyi yükle\n",
    "df = pd.read_csv(\"healthcare-dataset-stroke-data.csv\")\n",
    "\n",
    "# 'id' ve 'stroke' dışındaki sütunları kullanacağız\n",
    "X = df.drop(columns=[\"id\", \"stroke\"])\n",
    "y = df[\"stroke\"]\n",
    "\n",
    "# Eksik verileri kontrol et ve uygun şekilde doldur\n",
    "X[\"bmi\"] = X[\"bmi\"].fillna(X[\"bmi\"].mean())\n",
    "\n",
    "# Kategorik ve sayısal sütunlar\n",
    "categorical_cols = [\"gender\", \"ever_married\", \"work_type\", \"Residence_type\", \"smoking_status\"]\n",
    "numerical_cols = [\"age\", \"hypertension\", \"heart_disease\", \"avg_glucose_level\", \"bmi\"]\n",
    "\n",
    "# LabelEncoder ile string kategorileri encode et (manuel çünkü agent_svm.py bunu kullanıyor)\n",
    "encoders = {}\n",
    "for col in categorical_cols:\n",
    "    le = LabelEncoder()\n",
    "    X[col] = le.fit_transform(X[col])\n",
    "    encoders[col] = le\n",
    "\n",
    "# Ölçeklendirme işlemi\n",
    "scaler = StandardScaler()\n",
    "X_scaled = scaler.fit_transform(X)\n",
    "\n",
    "# Modeli eğit\n",
    "X_train, X_test, y_train, y_test = train_test_split(X_scaled, y, test_size=0.2, random_state=42)\n",
    "model = SVC(probability=True)\n",
    "model.fit(X_train, y_train)\n",
    "\n",
    "# Modeli ve scaler'ı kaydet\n",
    "joblib.dump(model, \"svm_stroke_model.joblib\")\n",
    "joblib.dump(scaler, \"svm_stroke_scaler.joblib\")"
   ]
  },
  {
   "cell_type": "code",
   "execution_count": null,
   "id": "4d85b56e",
   "metadata": {},
   "outputs": [],
   "source": []
  }
 ],
 "metadata": {
  "kernelspec": {
   "display_name": "Python 3",
   "language": "python",
   "name": "python3"
  },
  "language_info": {
   "codemirror_mode": {
    "name": "ipython",
    "version": 3
   },
   "file_extension": ".py",
   "mimetype": "text/x-python",
   "name": "python",
   "nbconvert_exporter": "python",
   "pygments_lexer": "ipython3",
   "version": "3.11.9"
  }
 },
 "nbformat": 4,
 "nbformat_minor": 5
}
