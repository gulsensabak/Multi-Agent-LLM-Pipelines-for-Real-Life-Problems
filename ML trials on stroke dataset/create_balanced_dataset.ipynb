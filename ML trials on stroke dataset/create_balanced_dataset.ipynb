{
 "cells": [
  {
   "cell_type": "code",
   "execution_count": 1,
   "id": "531c7163",
   "metadata": {},
   "outputs": [],
   "source": [
    "import pandas as pd\n",
    "\n",
    "# CSV dosyasını oku\n",
    "df = pd.read_csv(\"healthcare-dataset-stroke-data.csv\")\n",
    "\n",
    "# stroke = 0 olanlardan rastgele 50 satır seç\n",
    "stroke_0 = df[df[\"stroke\"] == 0].sample(n=50, random_state=42)\n",
    "\n",
    "# stroke = 1 olanlardan rastgele 50 satır seç\n",
    "stroke_1 = df[df[\"stroke\"] == 1].sample(n=50, random_state=42)\n",
    "\n",
    "# Birleştir ve karıştır\n",
    "sampled_df = pd.concat([stroke_0, stroke_1]).sample(frac=1, random_state=42).reset_index(drop=True)\n",
    "\n",
    "# Yeni dosyaya yaz\n",
    "sampled_df.to_csv(\"stroke_balanced_sample.csv\", index=False)\n"
   ]
  },
  {
   "cell_type": "code",
   "execution_count": null,
   "id": "15479c02",
   "metadata": {},
   "outputs": [],
   "source": []
  }
 ],
 "metadata": {
  "kernelspec": {
   "display_name": "Python 3",
   "language": "python",
   "name": "python3"
  },
  "language_info": {
   "codemirror_mode": {
    "name": "ipython",
    "version": 3
   },
   "file_extension": ".py",
   "mimetype": "text/x-python",
   "name": "python",
   "nbconvert_exporter": "python",
   "pygments_lexer": "ipython3",
   "version": "3.11.9"
  }
 },
 "nbformat": 4,
 "nbformat_minor": 5
}
