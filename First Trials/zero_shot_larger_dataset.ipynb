{
 "cells": [
  {
   "cell_type": "code",
   "execution_count": 1,
   "id": "a1be6582",
   "metadata": {},
   "outputs": [],
   "source": [
    "import pandas as pd\n",
    "from openai import OpenAI\n",
    "from sklearn.metrics import accuracy_score"
   ]
  },
  {
   "cell_type": "code",
   "execution_count": null,
   "id": "e47f2d57",
   "metadata": {},
   "outputs": [],
   "source": [
    "client = OpenAI(api_key = 'sk-proj-')"
   ]
  },
  {
   "cell_type": "code",
   "execution_count": 3,
   "id": "48c0af26",
   "metadata": {},
   "outputs": [],
   "source": [
    "df = pd.read_csv('framingham.csv')\n",
    "\n",
    "\n",
    "target = df['TenYearCHD']\n",
    "features = df.drop(columns=['TenYearCHD'])\n"
   ]
  },
  {
   "cell_type": "code",
   "execution_count": 4,
   "id": "6f231e66",
   "metadata": {},
   "outputs": [],
   "source": [
    "features_sample = features.head(50)\n",
    "target_sample = target.head(50)"
   ]
  },
  {
   "cell_type": "code",
   "execution_count": 5,
   "id": "920e8b68",
   "metadata": {},
   "outputs": [],
   "source": [
    "def llm_predict(row):\n",
    "    prompt = f\"\"\"Based on the following medical data, predict whether the person is at risk of developing coronary heart disease within 10 years.\n",
    "Return only 1 (at risk) or 0 (not at risk).\n",
    "\n",
    "{row.to_string(index=True)}\n",
    "\n",
    "Your answer:\"\"\"\n",
    "    \n",
    "    response = client.chat.completions.create(\n",
    "        model=\"gpt-3.5-turbo\",  # ya da \"gpt-4\"\n",
    "        messages=[\n",
    "            {\"role\": \"system\", \"content\": \"You are a medical expert specialized in cardiovascular risk prediction.\"},\n",
    "            {\"role\": \"user\", \"content\": prompt}\n",
    "        ],\n",
    "        temperature=0\n",
    "    )\n",
    "    \n",
    "    output = response.choices[0].message.content.strip()\n",
    "    return int('1' in output)"
   ]
  },
  {
   "cell_type": "code",
   "execution_count": 6,
   "id": "bbf99579",
   "metadata": {},
   "outputs": [],
   "source": [
    "preds = features_sample.apply(llm_predict, axis=1)"
   ]
  },
  {
   "cell_type": "code",
   "execution_count": 7,
   "id": "3454cce8",
   "metadata": {},
   "outputs": [
    {
     "name": "stdout",
     "output_type": "stream",
     "text": [
      "Accuracy: 0.28\n"
     ]
    }
   ],
   "source": [
    "acc = accuracy_score(target_sample, preds)\n",
    "print(f\"Accuracy: {acc:.2f}\")"
   ]
  }
 ],
 "metadata": {
  "kernelspec": {
   "display_name": "Python 3",
   "language": "python",
   "name": "python3"
  },
  "language_info": {
   "codemirror_mode": {
    "name": "ipython",
    "version": 3
   },
   "file_extension": ".py",
   "mimetype": "text/x-python",
   "name": "python",
   "nbconvert_exporter": "python",
   "pygments_lexer": "ipython3",
   "version": "3.11.9"
  }
 },
 "nbformat": 4,
 "nbformat_minor": 5
}
