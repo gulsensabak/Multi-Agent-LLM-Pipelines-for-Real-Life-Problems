{
 "cells": [
  {
   "cell_type": "code",
   "execution_count": null,
   "id": "0aefd6cd",
   "metadata": {},
   "outputs": [
    {
     "name": "stdout",
     "output_type": "stream",
     "text": [
      "              precision    recall  f1-score   support\n",
      "\n",
      "           0       0.52      0.51      0.51       382\n",
      "           1       0.50      0.51      0.51       368\n",
      "\n",
      "    accuracy                           0.51       750\n",
      "   macro avg       0.51      0.51      0.51       750\n",
      "weighted avg       0.51      0.51      0.51       750\n",
      "\n",
      "✅ Model başarıyla 'svm_lung_model.joblib' olarak kaydedildi.\n"
     ]
    }
   ],
   "source": [
    "import pandas as pd\n",
    "from sklearn.model_selection import train_test_split\n",
    "from sklearn.svm import SVC\n",
    "from sklearn.metrics import classification_report\n",
    "from joblib import dump\n",
    "\n",
    "# read csv\n",
    "df = pd.read_csv(\"dataset.csv\")\n",
    "df.columns = df.columns.str.lower()\n",
    "\n",
    "# convert categorical variables to numerical\n",
    "df[\"gender\"] = df[\"gender\"].str.lower().map({\"m\": 1, \"f\": 0})\n",
    "\n",
    "# drop nan values\n",
    "df = df.dropna()\n",
    "\n",
    "# seperate features and target variable\n",
    "X = df.drop(columns=[\"lung_cancer\"])\n",
    "y = df[\"lung_cancer\"]\n",
    "\n",
    "# train-test split\n",
    "X_train, X_test, y_train, y_test = train_test_split(X, y, test_size=0.25, random_state=42)\n",
    "\n",
    "# svm model\n",
    "svm_model = SVC(kernel='linear', probability=True, random_state=42)\n",
    "svm_model.fit(X_train, y_train)\n",
    "\n",
    "# performance evaluation\n",
    "y_pred = svm_model.predict(X_test)\n",
    "\n",
    "# classification report\n",
    "dump(svm_model, \"svm_lung_model.joblib\")"
   ]
  },
  {
   "cell_type": "code",
   "execution_count": null,
   "id": "bb548a83",
   "metadata": {},
   "outputs": [],
   "source": []
  }
 ],
 "metadata": {
  "kernelspec": {
   "display_name": "Python 3",
   "language": "python",
   "name": "python3"
  },
  "language_info": {
   "codemirror_mode": {
    "name": "ipython",
    "version": 3
   },
   "file_extension": ".py",
   "mimetype": "text/x-python",
   "name": "python",
   "nbconvert_exporter": "python",
   "pygments_lexer": "ipython3",
   "version": "3.11.9"
  }
 },
 "nbformat": 4,
 "nbformat_minor": 5
}
