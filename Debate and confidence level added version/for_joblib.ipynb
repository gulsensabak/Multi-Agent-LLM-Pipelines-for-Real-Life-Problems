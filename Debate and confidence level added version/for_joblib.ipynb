{
 "cells": [
  {
   "cell_type": "code",
   "execution_count": null,
   "id": "52b73993",
   "metadata": {},
   "outputs": [
    {
     "name": "stdout",
     "output_type": "stream",
     "text": [
      "              precision    recall  f1-score   support\n",
      "\n",
      "           0       0.64      0.70      0.67      6988\n",
      "           1       0.67      0.61      0.64      7012\n",
      "\n",
      "    accuracy                           0.65     14000\n",
      "   macro avg       0.65      0.65      0.65     14000\n",
      "weighted avg       0.65      0.65      0.65     14000\n",
      "\n",
      "✅ Model 'svm_model.joblib' olarak kaydedildi.\n"
     ]
    }
   ],
   "source": [
    "import pandas as pd\n",
    "from sklearn.model_selection import train_test_split\n",
    "from sklearn.svm import SVC\n",
    "from sklearn.metrics import classification_report\n",
    "from joblib import dump\n",
    "from sklearn.svm import LinearSVC\n",
    "\n",
    "# read csv file\n",
    "df = pd.read_csv(\"cardio_train.csv\", sep=';')\n",
    "\n",
    "# seperate features and target variable\n",
    "X = df.drop(columns=[\"cardio\", \"id\"])\n",
    "y = df[\"cardio\"]\n",
    "\n",
    "# train-test split\n",
    "X_train, X_test, y_train, y_test = train_test_split(X, y, test_size=0.2, random_state=42)\n",
    "\n",
    "\n",
    "svm_model = LinearSVC(random_state=42, max_iter=10000)\n",
    "svm_model.fit(X_train, y_train)\n",
    "\n",
    "\n",
    "y_pred = svm_model.predict(X_test)\n",
    "\n",
    "# print classification report\n",
    "dump(svm_model, \"svm_model.joblib\")\n"
   ]
  },
  {
   "cell_type": "code",
   "execution_count": null,
   "id": "b4983a4d",
   "metadata": {},
   "outputs": [],
   "source": []
  }
 ],
 "metadata": {
  "kernelspec": {
   "display_name": "Python 3",
   "language": "python",
   "name": "python3"
  },
  "language_info": {
   "codemirror_mode": {
    "name": "ipython",
    "version": 3
   },
   "file_extension": ".py",
   "mimetype": "text/x-python",
   "name": "python",
   "nbconvert_exporter": "python",
   "pygments_lexer": "ipython3",
   "version": "3.11.9"
  }
 },
 "nbformat": 4,
 "nbformat_minor": 5
}
