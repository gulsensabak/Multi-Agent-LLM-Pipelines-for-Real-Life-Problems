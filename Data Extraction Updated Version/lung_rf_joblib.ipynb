{
 "cells": [
  {
   "cell_type": "code",
   "execution_count": 4,
   "id": "96305cdc",
   "metadata": {},
   "outputs": [
    {
     "name": "stdout",
     "output_type": "stream",
     "text": [
      "\n",
      "=== Random Forest Classification Report ===\n",
      "              precision    recall  f1-score   support\n",
      "\n",
      "           0       0.58      0.57      0.57       371\n",
      "           1       0.58      0.59      0.58       370\n",
      "\n",
      "    accuracy                           0.58       741\n",
      "   macro avg       0.58      0.58      0.58       741\n",
      "weighted avg       0.58      0.58      0.58       741\n",
      "\n",
      "Random Forest ROC AUC: 0.5986158665403949\n",
      "Random Forest Confusion Matrix:\n",
      " [[210 161]\n",
      " [151 219]]\n"
     ]
    },
    {
     "data": {
      "text/plain": [
       "['rf_lung_model.joblib']"
      ]
     },
     "execution_count": 4,
     "metadata": {},
     "output_type": "execute_result"
    }
   ],
   "source": [
    "import pandas as pd\n",
    "import numpy as np\n",
    "from sklearn.model_selection import train_test_split\n",
    "from sklearn.preprocessing import StandardScaler\n",
    "from sklearn.ensemble import RandomForestClassifier\n",
    "from sklearn.metrics import classification_report, roc_auc_score, confusion_matrix\n",
    "from sklearn.utils import resample\n",
    "from joblib import dump\n",
    "import matplotlib.pyplot as plt\n",
    "import seaborn as sns\n",
    "\n",
    "# Step 1: Load dataset\n",
    "df = pd.read_csv(\"dataset.csv\")\n",
    "df.columns = df.columns.str.lower()\n",
    "\n",
    "# Step 2: Preprocess\n",
    "df[\"gender\"] = df[\"gender\"].str.lower().map({\"m\": 1, \"f\": 0})\n",
    "df = df.dropna()\n",
    "\n",
    "# Step 3: Balance dataset\n",
    "df_majority = df[df.lung_cancer == 0]\n",
    "df_minority = df[df.lung_cancer == 1]\n",
    "\n",
    "df_minority_upsampled = resample(df_minority,\n",
    "                                 replace=True,\n",
    "                                 n_samples=len(df_majority),\n",
    "                                 random_state=42)\n",
    "\n",
    "df_balanced = pd.concat([df_majority, df_minority_upsampled])\n",
    "\n",
    "# Step 4: Features and labels\n",
    "X = df_balanced.drop(columns=[\"lung_cancer\"])\n",
    "y = df_balanced[\"lung_cancer\"]\n",
    "\n",
    "# Step 5: Scale features\n",
    "scaler = StandardScaler()\n",
    "X_scaled_array = scaler.fit_transform(X)\n",
    "\n",
    "# ❗️ Re-wrap into DataFrame with original column names\n",
    "X_scaled = pd.DataFrame(X_scaled_array, columns=X.columns)\n",
    "\n",
    "# Step 6: Train-test split\n",
    "X_train, X_test, y_train, y_test = train_test_split(\n",
    "    X_scaled, y, test_size=0.25, random_state=42, stratify=y\n",
    ")\n",
    "\n",
    "# Step 7: Train Random Forest\n",
    "rf_model = RandomForestClassifier(\n",
    "    n_estimators=50,\n",
    "    max_depth=5,\n",
    "    min_samples_split=10,\n",
    "    class_weight='balanced',\n",
    "    random_state=42\n",
    ")\n",
    "rf_model.fit(X_train, y_train)\n",
    "\n",
    "# Step 8: Evaluate\n",
    "y_pred_rf = rf_model.predict(X_test)\n",
    "y_proba_rf = rf_model.predict_proba(X_test)[:, 1]\n",
    "\n",
    "print(\"\\n=== Random Forest Classification Report ===\")\n",
    "print(classification_report(y_test, y_pred_rf))\n",
    "print(\"Random Forest ROC AUC:\", roc_auc_score(y_test, y_proba_rf))\n",
    "print(\"Random Forest Confusion Matrix:\\n\", confusion_matrix(y_test, y_pred_rf))\n",
    "\n",
    "# Step 9: Save model\n",
    "dump(rf_model, \"rf_lung_model.joblib\")\n",
    "\n"
   ]
  },
  {
   "cell_type": "code",
   "execution_count": null,
   "id": "16550e1f",
   "metadata": {},
   "outputs": [],
   "source": []
  },
  {
   "cell_type": "code",
   "execution_count": null,
   "id": "fef6bae4",
   "metadata": {},
   "outputs": [],
   "source": []
  }
 ],
 "metadata": {
  "kernelspec": {
   "display_name": "Python 3",
   "language": "python",
   "name": "python3"
  },
  "language_info": {
   "codemirror_mode": {
    "name": "ipython",
    "version": 3
   },
   "file_extension": ".py",
   "mimetype": "text/x-python",
   "name": "python",
   "nbconvert_exporter": "python",
   "pygments_lexer": "ipython3",
   "version": "3.11.9"
  }
 },
 "nbformat": 4,
 "nbformat_minor": 5
}
