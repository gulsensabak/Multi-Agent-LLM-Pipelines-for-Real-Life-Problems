{
 "cells": [
  {
   "cell_type": "code",
   "execution_count": null,
   "id": "7d9d5aac",
   "metadata": {},
   "outputs": [
    {
     "name": "stdout",
     "output_type": "stream",
     "text": [
      "              precision    recall  f1-score   support\n",
      "\n",
      "           0       0.53      0.48      0.50       382\n",
      "           1       0.51      0.55      0.53       368\n",
      "\n",
      "    accuracy                           0.52       750\n",
      "   macro avg       0.52      0.52      0.52       750\n",
      "weighted avg       0.52      0.52      0.52       750\n",
      "\n",
      "✅ Model başarıyla 'rf_lung_model.joblib' olarak kaydedildi.\n"
     ]
    }
   ],
   "source": [
    "import pandas as pd\n",
    "from sklearn.model_selection import train_test_split\n",
    "from sklearn.ensemble import RandomForestClassifier\n",
    "from sklearn.metrics import classification_report\n",
    "from joblib import dump\n",
    "\n",
    "# read csv file\n",
    "df = pd.read_csv(\"dataset.csv\")  \n",
    "\n",
    "df.columns = df.columns.str.lower() \n",
    "\n",
    "# convert gender to binary\n",
    "df[\"gender\"] = df[\"gender\"].map({\"m\": 1, \"f\": 0})\n",
    "\n",
    "# seperate features and target variable\n",
    "X = df.drop(columns=[\"lung_cancer\"])\n",
    "y = df[\"lung_cancer\"]\n",
    "\n",
    "# train-test split\n",
    "X_train, X_test, y_train, y_test = train_test_split(X, y, test_size=0.25, random_state=42)\n",
    "\n",
    "# random forest model\n",
    "rf_model = RandomForestClassifier(n_estimators=100, random_state=42)\n",
    "rf_model.fit(X_train, y_train)\n",
    "\n",
    "# model evaluation\n",
    "y_pred = rf_model.predict(X_test)\n",
    "\n",
    "# model performance\n",
    "dump(rf_model, \"rf_lung_model.joblib\")"
   ]
  },
  {
   "cell_type": "code",
   "execution_count": null,
   "id": "31f61389",
   "metadata": {},
   "outputs": [],
   "source": []
  }
 ],
 "metadata": {
  "kernelspec": {
   "display_name": "Python 3",
   "language": "python",
   "name": "python3"
  },
  "language_info": {
   "codemirror_mode": {
    "name": "ipython",
    "version": 3
   },
   "file_extension": ".py",
   "mimetype": "text/x-python",
   "name": "python",
   "nbconvert_exporter": "python",
   "pygments_lexer": "ipython3",
   "version": "3.11.9"
  }
 },
 "nbformat": 4,
 "nbformat_minor": 5
}
