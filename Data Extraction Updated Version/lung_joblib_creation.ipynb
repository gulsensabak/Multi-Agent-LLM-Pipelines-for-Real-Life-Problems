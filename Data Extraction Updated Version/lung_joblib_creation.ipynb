{
 "cells": [
  {
   "cell_type": "code",
   "execution_count": 2,
   "id": "105d2289",
   "metadata": {},
   "outputs": [
    {
     "name": "stdout",
     "output_type": "stream",
     "text": [
      "\n",
      "=== SVM Classification Report ===\n",
      "              precision    recall  f1-score   support\n",
      "\n",
      "           0       0.51      0.49      0.50       371\n",
      "           1       0.51      0.54      0.52       370\n",
      "\n",
      "    accuracy                           0.51       741\n",
      "   macro avg       0.51      0.51      0.51       741\n",
      "weighted avg       0.51      0.51      0.51       741\n",
      "\n",
      "SVM ROC AUC: 0.5130909885626866\n",
      "SVM Confusion Matrix:\n",
      " [[181 190]\n",
      " [172 198]]\n"
     ]
    },
    {
     "data": {
      "text/plain": [
       "['svm_lung_model.joblib']"
      ]
     },
     "execution_count": 2,
     "metadata": {},
     "output_type": "execute_result"
    }
   ],
   "source": [
    "import pandas as pd\n",
    "import numpy as np\n",
    "from sklearn.model_selection import train_test_split\n",
    "from sklearn.preprocessing import StandardScaler\n",
    "from sklearn.svm import LinearSVC\n",
    "from sklearn.calibration import CalibratedClassifierCV\n",
    "from sklearn.metrics import classification_report, roc_auc_score, confusion_matrix\n",
    "from sklearn.utils import resample\n",
    "from joblib import dump\n",
    "\n",
    "# Step 1: Load and Clean Dataset\n",
    "df = pd.read_csv(\"dataset.csv\")\n",
    "df.columns = df.columns.str.lower()\n",
    "df[\"gender\"] = df[\"gender\"].str.lower().map({\"m\": 1, \"f\": 0})\n",
    "df = df.dropna()\n",
    "\n",
    "# Step 2: Balance the dataset\n",
    "df_majority = df[df.lung_cancer == 0]\n",
    "df_minority = df[df.lung_cancer == 1]\n",
    "df_minority_upsampled = resample(df_minority, replace=True, n_samples=len(df_majority), random_state=42)\n",
    "df_balanced = pd.concat([df_majority, df_minority_upsampled])\n",
    "\n",
    "# Step 3: Separate features and labels\n",
    "X = df_balanced.drop(columns=[\"lung_cancer\"])\n",
    "y = df_balanced[\"lung_cancer\"]\n",
    "\n",
    "# Step 4: Scale features\n",
    "scaler = StandardScaler()\n",
    "X_scaled_array = scaler.fit_transform(X)\n",
    "X_scaled = pd.DataFrame(X_scaled_array, columns=X.columns)\n",
    "\n",
    "# Step 5: Train-Test Split\n",
    "X_train, X_test, y_train, y_test = train_test_split(X_scaled, y, test_size=0.25, random_state=42, stratify=y)\n",
    "\n",
    "# Step 6: Train LinearSVC with probability support\n",
    "base_svc = LinearSVC(random_state=42, max_iter=10000)\n",
    "svm_model = CalibratedClassifierCV(estimator=base_svc, method='sigmoid', cv=5)  # düzeltildi\n",
    "svm_model.fit(X_train, y_train)\n",
    "\n",
    "# Step 7: Evaluation\n",
    "y_pred_svm = svm_model.predict(X_test)\n",
    "y_proba_svm = svm_model.predict_proba(X_test)[:, 1]\n",
    "\n",
    "print(\"\\n=== SVM Classification Report ===\")\n",
    "print(classification_report(y_test, y_pred_svm))\n",
    "print(\"SVM ROC AUC:\", roc_auc_score(y_test, y_proba_svm))\n",
    "print(\"SVM Confusion Matrix:\\n\", confusion_matrix(y_test, y_pred_svm))\n",
    "\n",
    "# Step 8: Save model\n",
    "dump(svm_model, \"svm_lung_model.joblib\")\n"
   ]
  },
  {
   "cell_type": "code",
   "execution_count": null,
   "id": "3be9f3a3",
   "metadata": {},
   "outputs": [],
   "source": []
  }
 ],
 "metadata": {
  "kernelspec": {
   "display_name": "Python 3",
   "language": "python",
   "name": "python3"
  },
  "language_info": {
   "codemirror_mode": {
    "name": "ipython",
    "version": 3
   },
   "file_extension": ".py",
   "mimetype": "text/x-python",
   "name": "python",
   "nbconvert_exporter": "python",
   "pygments_lexer": "ipython3",
   "version": "3.11.9"
  }
 },
 "nbformat": 4,
 "nbformat_minor": 5
}
