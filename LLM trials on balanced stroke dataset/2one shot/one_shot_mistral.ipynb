{
 "cells": [
  {
   "cell_type": "code",
   "execution_count": 1,
   "id": "a1be6582",
   "metadata": {},
   "outputs": [],
   "source": [
    "import pandas as pd\n",
    "from sklearn.metrics import accuracy_score"
   ]
  },
  {
   "cell_type": "code",
   "execution_count": 2,
   "id": "48c0af26",
   "metadata": {},
   "outputs": [],
   "source": [
    "df = pd.read_csv('stroke_balanced_sample.csv')\n",
    "\n",
    "\n",
    "target = df['stroke']\n",
    "features = df.drop(columns=['stroke'])\n"
   ]
  },
  {
   "cell_type": "code",
   "execution_count": 3,
   "id": "6f231e66",
   "metadata": {},
   "outputs": [],
   "source": [
    "features_sample = features.head(100)\n",
    "target_sample = target.head(100)"
   ]
  },
  {
   "cell_type": "code",
   "execution_count": 4,
   "id": "920e8b68",
   "metadata": {},
   "outputs": [],
   "source": [
    "from langchain_ollama import ChatOllama\n",
    "\n",
    "llm = ChatOllama(model = \"mistral:latest\")\n",
    "\n",
    "def predict_stroke_llm(row, llm):\n",
    "    one_shot_example = \"\"\"\n",
    "You are a medical AI assistant. Given the following patient data, your task is to predict the likelihood of a stroke. \n",
    "Provide your response as either 0 (no stroke) or 1 (stroke), and explain your reasoning based on the data.\n",
    "\n",
    "Example Patient:\n",
    "- Gender: Female\n",
    "- Age: 67\n",
    "- Hypertension: 0\n",
    "- Heart Disease: 1\n",
    "- Ever Married: Yes\n",
    "- Work Type: Private\n",
    "- Residence Type: Urban\n",
    "- Average Glucose Level: 228.69\n",
    "- BMI: 36.6\n",
    "- Smoking Status: formerly smoked\n",
    "\n",
    "Prediction: 1 - High glucose level, heart disease, and age indicate high stroke risk.\n",
    "\n",
    "Now evaluate the following patient:\n",
    "\n",
    "Patient data:\n",
    "- Gender: {gender}\n",
    "- Age: {age}\n",
    "- Hypertension: {hypertension}\n",
    "- Heart Disease: {heart_disease}\n",
    "- Ever Married: {ever_married}\n",
    "- Work Type: {work_type}\n",
    "- Residence Type: {residence_type}\n",
    "- Average Glucose Level: {glucose}\n",
    "- BMI: {bmi}\n",
    "- Smoking Status: {smoking}\n",
    "\n",
    "Prediction:\n",
    "\"\"\".format(\n",
    "        gender=row['gender'],\n",
    "        age=row['age'],\n",
    "        hypertension=row['hypertension'],\n",
    "        heart_disease=row['heart_disease'],\n",
    "        ever_married=row['ever_married'],\n",
    "        work_type=row['work_type'],\n",
    "        residence_type=row['Residence_type'],\n",
    "        glucose=row['avg_glucose_level'],\n",
    "        bmi=row['bmi'],\n",
    "        smoking=row['smoking_status']\n",
    "    )\n",
    "\n",
    "    response = llm.invoke([\n",
    "        {\"role\": \"system\", \"content\": \"You are a medical expert specialized in stroke prediction.\"},\n",
    "        {\"role\": \"user\", \"content\": one_shot_example}\n",
    "    ])\n",
    "\n",
    "    output = response.content.strip()\n",
    "\n",
    "    # Naive binary extraction\n",
    "    return int('1' in output.split('\\n')[0])"
   ]
  },
  {
   "cell_type": "code",
   "execution_count": 5,
   "id": "bbf99579",
   "metadata": {},
   "outputs": [],
   "source": [
    "preds = features_sample.apply(lambda row: predict_stroke_llm(row, llm), axis=1)"
   ]
  },
  {
   "cell_type": "code",
   "execution_count": 6,
   "id": "3454cce8",
   "metadata": {},
   "outputs": [
    {
     "name": "stdout",
     "output_type": "stream",
     "text": [
      "Accuracy: 0.52\n"
     ]
    }
   ],
   "source": [
    "acc = accuracy_score(target_sample, preds)\n",
    "print(f\"Accuracy: {acc:.2f}\")"
   ]
  },
  {
   "cell_type": "code",
   "execution_count": null,
   "id": "63eb6950",
   "metadata": {},
   "outputs": [],
   "source": []
  }
 ],
 "metadata": {
  "kernelspec": {
   "display_name": "Python 3",
   "language": "python",
   "name": "python3"
  },
  "language_info": {
   "codemirror_mode": {
    "name": "ipython",
    "version": 3
   },
   "file_extension": ".py",
   "mimetype": "text/x-python",
   "name": "python",
   "nbconvert_exporter": "python",
   "pygments_lexer": "ipython3",
   "version": "3.11.9"
  }
 },
 "nbformat": 4,
 "nbformat_minor": 5
}
