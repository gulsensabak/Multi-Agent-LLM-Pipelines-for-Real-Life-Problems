{
 "cells": [
  {
   "cell_type": "code",
   "execution_count": 6,
   "id": "a1be6582",
   "metadata": {},
   "outputs": [],
   "source": [
    "import pandas as pd\n",
    "from sklearn.metrics import accuracy_score"
   ]
  },
  {
   "cell_type": "code",
   "execution_count": 7,
   "id": "48c0af26",
   "metadata": {},
   "outputs": [],
   "source": [
    "df = pd.read_csv('stroke_balanced_sample.csv')\n",
    "\n",
    "\n",
    "target = df['stroke']\n",
    "features = df.drop(columns=['stroke'])\n"
   ]
  },
  {
   "cell_type": "code",
   "execution_count": 8,
   "id": "6f231e66",
   "metadata": {},
   "outputs": [],
   "source": [
    "features_sample = features.head(100)\n",
    "target_sample = target.head(100)"
   ]
  },
  {
   "cell_type": "code",
   "execution_count": 9,
   "id": "920e8b68",
   "metadata": {},
   "outputs": [],
   "source": [
    "from langchain_ollama import ChatOllama\n",
    "\n",
    "llm = ChatOllama(model = \"llama3.1:latest\")\n",
    "\n",
    "def predict_stroke_llm(row, llm):\n",
    "    prompt = f\"\"\"\n",
    "You are a medical AI expert. You must predict stroke risk based on patient features. For each patient, follow this process:\n",
    "\n",
    "### Instructions:\n",
    "Step 1: Assign a risk score (0 to 2) for each of the following:\n",
    "- Age: 0 = under 50, 1 = 50–65, 2 = over 65\n",
    "- Hypertension: 0 = no, 2 = yes\n",
    "- Heart Disease: 0 = no, 2 = yes\n",
    "- Average Glucose Level: 0 = <140, 1 = 140–200, 2 = >200\n",
    "- BMI: 0 = <25, 1 = 25–30, 2 = >30\n",
    "- Smoking: 0 = never smoked, 1 = formerly smoked, 2 = smokes\n",
    "\n",
    "Step 2: Sum all risk scores. If total score is 5 or more → stroke likely (1), otherwise not likely (0).\n",
    "\n",
    "Step 3: Output your prediction in this format:\n",
    "\"Prediction: [0 or 1] - [explanation of reasoning]\"\n",
    "\n",
    "---\n",
    "\n",
    "### Example Patient:\n",
    "- Gender: Female\n",
    "- Age: 67\n",
    "- Hypertension: 0\n",
    "- Heart Disease: 1\n",
    "- Ever Married: Yes\n",
    "- Work Type: Private\n",
    "- Residence Type: Urban\n",
    "- Average Glucose Level: 228.69\n",
    "- BMI: 36.6\n",
    "- Smoking Status: formerly smoked\n",
    "\n",
    "Scoring:\n",
    "- Age: 2 (over 65)\n",
    "- Hypertension: 0\n",
    "- Heart Disease: 2\n",
    "- Glucose: 2 (>200)\n",
    "- BMI: 2 (>30)\n",
    "- Smoking: 1 (formerly smoked)\n",
    "\n",
    "Total Risk Score: 9  \n",
    "Prediction: 1 - Age, heart disease, and high glucose/BMI suggest high stroke risk.\n",
    "\n",
    "---\n",
    "\n",
    "### Now analyze this patient:\n",
    "- Gender: {row['gender']}\n",
    "- Age: {row['age']}\n",
    "- Hypertension: {row['hypertension']}\n",
    "- Heart Disease: {row['heart_disease']}\n",
    "- Ever Married: {row['ever_married']}\n",
    "- Work Type: {row['work_type']}\n",
    "- Residence Type: {row['Residence_type']}\n",
    "- Average Glucose Level: {row['avg_glucose_level']}\n",
    "- BMI: {row['bmi']}\n",
    "- Smoking Status: {row['smoking_status']}\n",
    "\n",
    "Scoring:\n",
    "\"\"\"\n",
    "\n",
    "    response = llm.invoke([\n",
    "        {\"role\": \"system\", \"content\": \"You are a clinical decision support expert. Follow the risk scoring method exactly and provide your prediction based on the instructions.\"},\n",
    "        {\"role\": \"user\", \"content\": prompt}\n",
    "    ])\n",
    "\n",
    "    output = response.content.strip()\n",
    "\n",
    "    # Extract final prediction\n",
    "    if output.startswith(\"Prediction:\"):\n",
    "        label_line = output.splitlines()[0]\n",
    "    else:\n",
    "        label_line = next((line for line in output.splitlines() if \"Prediction\" in line), \"\")\n",
    "\n",
    "    return int('1' in label_line.split()[1]) if 'Prediction' in label_line else -1\n"
   ]
  },
  {
   "cell_type": "code",
   "execution_count": null,
   "id": "bbf99579",
   "metadata": {},
   "outputs": [],
   "source": [
    "preds = features_sample.apply(lambda row: predict_stroke_llm(row, llm), axis=1)"
   ]
  },
  {
   "cell_type": "code",
   "execution_count": null,
   "id": "3454cce8",
   "metadata": {},
   "outputs": [
    {
     "name": "stdout",
     "output_type": "stream",
     "text": [
      "Accuracy: 0.61\n"
     ]
    }
   ],
   "source": [
    "acc = accuracy_score(target_sample, preds)\n",
    "print(f\"Accuracy: {acc:.2f}\")"
   ]
  },
  {
   "cell_type": "code",
   "execution_count": null,
   "id": "4308e5be",
   "metadata": {},
   "outputs": [],
   "source": []
  }
 ],
 "metadata": {
  "kernelspec": {
   "display_name": "Python 3",
   "language": "python",
   "name": "python3"
  },
  "language_info": {
   "codemirror_mode": {
    "name": "ipython",
    "version": 3
   },
   "file_extension": ".py",
   "mimetype": "text/x-python",
   "name": "python",
   "nbconvert_exporter": "python",
   "pygments_lexer": "ipython3",
   "version": "3.11.9"
  }
 },
 "nbformat": 4,
 "nbformat_minor": 5
}
