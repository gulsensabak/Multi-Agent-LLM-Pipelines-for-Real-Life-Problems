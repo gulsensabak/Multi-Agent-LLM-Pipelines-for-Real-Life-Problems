{
 "cells": [
  {
   "cell_type": "code",
   "execution_count": 5,
   "id": "a1be6582",
   "metadata": {},
   "outputs": [],
   "source": [
    "import pandas as pd\n",
    "from sklearn.metrics import accuracy_score"
   ]
  },
  {
   "cell_type": "code",
   "execution_count": 6,
   "id": "48c0af26",
   "metadata": {},
   "outputs": [],
   "source": [
    "df = pd.read_csv('stroke_balanced_sample.csv')\n",
    "\n",
    "\n",
    "target = df['stroke']\n",
    "features = df.drop(columns=['stroke'])\n"
   ]
  },
  {
   "cell_type": "code",
   "execution_count": 7,
   "id": "6f231e66",
   "metadata": {},
   "outputs": [],
   "source": [
    "features_sample = features.head(100)\n",
    "target_sample = target.head(100)"
   ]
  },
  {
   "cell_type": "code",
   "execution_count": 8,
   "id": "920e8b68",
   "metadata": {},
   "outputs": [],
   "source": [
    "from langchain_ollama import ChatOllama\n",
    "\n",
    "llm = ChatOllama(model = \"llama3.1:latest\")\n",
    "\n",
    "def predict_stroke_llm(row, llm):\n",
    "    one_shot_prompt = f\"\"\"\n",
    "You are a medical AI assistant. Your task is to assess a patient's risk of having a stroke based on their health and lifestyle features.\n",
    "\n",
    "Please follow these steps:\n",
    "Step 1: Evaluate individual risk factors like age, hypertension, heart disease, glucose level, BMI, and smoking.\n",
    "Step 2: Consider how combinations of these increase stroke likelihood.\n",
    "Step 3: Based on your analysis, give a prediction: 0 (low risk, no stroke) or 1 (high risk, stroke likely).\n",
    "Step 4: Return your answer in the format: \"Prediction: [0 or 1] - [reasoning]\"\n",
    "\n",
    "### Example Patient:\n",
    "- Gender: Female\n",
    "- Age: 67\n",
    "- Hypertension: 0\n",
    "- Heart Disease: 1\n",
    "- Ever Married: Yes\n",
    "- Work Type: Private\n",
    "- Residence Type: Urban\n",
    "- Average Glucose Level: 228.69\n",
    "- BMI: 36.6\n",
    "- Smoking Status: formerly smoked\n",
    "\n",
    "Reasoning:\n",
    "Step 1: Patient is elderly (67), has heart disease, and a very high glucose level (228.69).\n",
    "Step 2: The combination of age, heart condition, and metabolic risk suggests high stroke risk.\n",
    "Prediction: 1 - Multiple major risk factors indicate high likelihood of stroke.\n",
    "\n",
    "### Now evaluate this patient:\n",
    "- Gender: {row['gender']}\n",
    "- Age: {row['age']}\n",
    "- Hypertension: {row['hypertension']}\n",
    "- Heart Disease: {row['heart_disease']}\n",
    "- Ever Married: {row['ever_married']}\n",
    "- Work Type: {row['work_type']}\n",
    "- Residence Type: {row['Residence_type']}\n",
    "- Average Glucose Level: {row['avg_glucose_level']}\n",
    "- BMI: {row['bmi']}\n",
    "- Smoking Status: {row['smoking_status']}\n",
    "\n",
    "Reasoning:\n",
    "\"\"\"\n",
    "\n",
    "    response = llm.invoke([\n",
    "        {\"role\": \"system\", \"content\": \"You are a medical expert specialized in stroke risk prediction. Think step by step and explain your reasoning before the final answer.\"},\n",
    "        {\"role\": \"user\", \"content\": one_shot_prompt}\n",
    "    ])\n",
    "\n",
    "    output = response.content.strip()\n",
    "\n",
    "    # Naive binary extraction (adjust based on your LLM's style)\n",
    "    return int('1' in output.split('\\n')[0])\n"
   ]
  },
  {
   "cell_type": "code",
   "execution_count": 9,
   "id": "bbf99579",
   "metadata": {},
   "outputs": [],
   "source": [
    "preds = features_sample.apply(lambda row: predict_stroke_llm(row, llm), axis=1)"
   ]
  },
  {
   "cell_type": "code",
   "execution_count": 10,
   "id": "3454cce8",
   "metadata": {},
   "outputs": [
    {
     "name": "stdout",
     "output_type": "stream",
     "text": [
      "Accuracy: 0.53\n"
     ]
    }
   ],
   "source": [
    "acc = accuracy_score(target_sample, preds)\n",
    "print(f\"Accuracy: {acc:.2f}\")"
   ]
  },
  {
   "cell_type": "code",
   "execution_count": null,
   "id": "4308e5be",
   "metadata": {},
   "outputs": [],
   "source": []
  }
 ],
 "metadata": {
  "kernelspec": {
   "display_name": "Python 3",
   "language": "python",
   "name": "python3"
  },
  "language_info": {
   "codemirror_mode": {
    "name": "ipython",
    "version": 3
   },
   "file_extension": ".py",
   "mimetype": "text/x-python",
   "name": "python",
   "nbconvert_exporter": "python",
   "pygments_lexer": "ipython3",
   "version": "3.11.9"
  }
 },
 "nbformat": 4,
 "nbformat_minor": 5
}
