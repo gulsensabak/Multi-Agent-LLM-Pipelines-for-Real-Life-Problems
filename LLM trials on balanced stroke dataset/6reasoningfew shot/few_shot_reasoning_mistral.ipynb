{
 "cells": [
  {
   "cell_type": "code",
   "execution_count": 1,
   "id": "a1be6582",
   "metadata": {},
   "outputs": [],
   "source": [
    "import pandas as pd\n",
    "from sklearn.metrics import accuracy_score"
   ]
  },
  {
   "cell_type": "code",
   "execution_count": 2,
   "id": "48c0af26",
   "metadata": {},
   "outputs": [],
   "source": [
    "df = pd.read_csv('stroke_balanced_sample.csv')\n",
    "\n",
    "\n",
    "target = df['stroke']\n",
    "features = df.drop(columns=['stroke'])\n"
   ]
  },
  {
   "cell_type": "code",
   "execution_count": 3,
   "id": "6f231e66",
   "metadata": {},
   "outputs": [],
   "source": [
    "features_sample = features.head(100)\n",
    "target_sample = target.head(100)"
   ]
  },
  {
   "cell_type": "code",
   "execution_count": 4,
   "id": "920e8b68",
   "metadata": {},
   "outputs": [],
   "source": [
    "from langchain_ollama import ChatOllama\n",
    "\n",
    "llm = ChatOllama(model = \"mistral:latest\")\n",
    "\n",
    "def predict_stroke_llm(row, llm):\n",
    "    prompt = f\"\"\"\n",
    "You are a medical AI assistant. Your task is to assess whether a patient is at risk of stroke using clinical and lifestyle data. \n",
    "Follow these reasoning steps for each patient:\n",
    "Step 1: Assess each risk factor: age, hypertension, heart disease, glucose, BMI, smoking.\n",
    "Step 2: Identify combinations of risk factors that increase stroke risk.\n",
    "Step 3: Make a prediction: 1 = high risk (stroke likely), 0 = low risk (stroke unlikely).\n",
    "Step 4: Return prediction in this format: \"Prediction: [0 or 1] - [reasoning]\"\n",
    "\n",
    "### Example 1:\n",
    "- Gender: Female\n",
    "- Age: 67\n",
    "- Hypertension: 0\n",
    "- Heart Disease: 1\n",
    "- Ever Married: Yes\n",
    "- Work Type: Private\n",
    "- Residence Type: Urban\n",
    "- Average Glucose Level: 228.69\n",
    "- BMI: 36.6\n",
    "- Smoking Status: formerly smoked\n",
    "\n",
    "Reasoning:\n",
    "Step 1: Elderly (67), heart disease, very high glucose (228.69).\n",
    "Step 2: Combination of age + heart disease + glucose strongly increases stroke risk.\n",
    "Prediction: 1 - Multiple high-risk factors.\n",
    "\n",
    "### Example 2:\n",
    "- Gender: Male\n",
    "- Age: 45\n",
    "- Hypertension: 0\n",
    "- Heart Disease: 0\n",
    "- Ever Married: Yes\n",
    "- Work Type: Self-employed\n",
    "- Residence Type: Rural\n",
    "- Average Glucose Level: 85.6\n",
    "- BMI: 24.0\n",
    "- Smoking Status: never smoked\n",
    "\n",
    "Reasoning:\n",
    "Step 1: No major risk factors, normal glucose and BMI.\n",
    "Step 2: Healthy profile overall.\n",
    "Prediction: 0 - Low risk profile.\n",
    "\n",
    "### Example 3:\n",
    "- Gender: Female\n",
    "- Age: 61\n",
    "- Hypertension: 1\n",
    "- Heart Disease: 0\n",
    "- Ever Married: Yes\n",
    "- Work Type: Govt_job\n",
    "- Residence Type: Urban\n",
    "- Average Glucose Level: 105.0\n",
    "- BMI: 30.2\n",
    "- Smoking Status: smokes\n",
    "\n",
    "Reasoning:\n",
    "Step 1: Age above 60, smoker, hypertensive.\n",
    "Step 2: Smoking + hypertension + age moderately increase stroke risk.\n",
    "Prediction: 1 - Combination of moderate risks justifies positive classification.\n",
    "\n",
    "### Now evaluate this patient:\n",
    "- Gender: {row['gender']}\n",
    "- Age: {row['age']}\n",
    "- Hypertension: {row['hypertension']}\n",
    "- Heart Disease: {row['heart_disease']}\n",
    "- Ever Married: {row['ever_married']}\n",
    "- Work Type: {row['work_type']}\n",
    "- Residence Type: {row['Residence_type']}\n",
    "- Average Glucose Level: {row['avg_glucose_level']}\n",
    "- BMI: {row['bmi']}\n",
    "- Smoking Status: {row['smoking_status']}\n",
    "\n",
    "Reasoning:\n",
    "\"\"\"\n",
    "\n",
    "    response = llm.invoke([\n",
    "        {\"role\": \"system\", \"content\": \"You are a medical expert specialized in stroke risk prediction. Think step by step and explain your reasoning before providing a final answer.\"},\n",
    "        {\"role\": \"user\", \"content\": prompt}\n",
    "    ])\n",
    "\n",
    "    output = response.content.strip()\n",
    "\n",
    "    # Naive binary extraction (adjust based on your LLM's style)\n",
    "    return int('1' in output.split('\\n')[0])\n"
   ]
  },
  {
   "cell_type": "code",
   "execution_count": 5,
   "id": "bbf99579",
   "metadata": {},
   "outputs": [],
   "source": [
    "preds = features_sample.apply(lambda row: predict_stroke_llm(row, llm), axis=1)"
   ]
  },
  {
   "cell_type": "code",
   "execution_count": 6,
   "id": "3454cce8",
   "metadata": {},
   "outputs": [
    {
     "name": "stdout",
     "output_type": "stream",
     "text": [
      "Accuracy: 0.50\n"
     ]
    }
   ],
   "source": [
    "acc = accuracy_score(target_sample, preds)\n",
    "print(f\"Accuracy: {acc:.2f}\")"
   ]
  },
  {
   "cell_type": "code",
   "execution_count": null,
   "id": "63eb6950",
   "metadata": {},
   "outputs": [],
   "source": []
  }
 ],
 "metadata": {
  "kernelspec": {
   "display_name": "Python 3",
   "language": "python",
   "name": "python3"
  },
  "language_info": {
   "codemirror_mode": {
    "name": "ipython",
    "version": 3
   },
   "file_extension": ".py",
   "mimetype": "text/x-python",
   "name": "python",
   "nbconvert_exporter": "python",
   "pygments_lexer": "ipython3",
   "version": "3.11.9"
  }
 },
 "nbformat": 4,
 "nbformat_minor": 5
}
