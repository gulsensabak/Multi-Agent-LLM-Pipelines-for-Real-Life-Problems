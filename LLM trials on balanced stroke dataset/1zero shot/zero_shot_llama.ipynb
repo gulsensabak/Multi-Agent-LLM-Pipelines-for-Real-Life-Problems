{
 "cells": [
  {
   "cell_type": "code",
   "execution_count": 1,
   "id": "a1be6582",
   "metadata": {},
   "outputs": [],
   "source": [
    "import pandas as pd\n",
    "from sklearn.metrics import accuracy_score"
   ]
  },
  {
   "cell_type": "code",
   "execution_count": 2,
   "id": "48c0af26",
   "metadata": {},
   "outputs": [],
   "source": [
    "df = pd.read_csv('stroke_balanced_sample.csv')\n",
    "\n",
    "\n",
    "target = df['stroke']\n",
    "features = df.drop(columns=['stroke'])\n"
   ]
  },
  {
   "cell_type": "code",
   "execution_count": 3,
   "id": "6f231e66",
   "metadata": {},
   "outputs": [],
   "source": [
    "features_sample = features.head(100)\n",
    "target_sample = target.head(100)"
   ]
  },
  {
   "cell_type": "code",
   "execution_count": 4,
   "id": "920e8b68",
   "metadata": {},
   "outputs": [],
   "source": [
    "from langchain_ollama import ChatOllama\n",
    "\n",
    "llm = ChatOllama(model = \"llama3.1:latest\")\n",
    "\n",
    "def predict_stroke_llm(row, llm):\n",
    "    prompt = f\"\"\"\n",
    "You are a medical AI assistant. Given the following patient data, your task is to predict the likelihood of a stroke. \n",
    "Provide your response as either 0 (no stroke) or 1 (stroke), and explain your reasoning based on the data.\n",
    "\n",
    "Patient data:\n",
    "- Gender: {row['gender']}\n",
    "- Age: {row['age']}\n",
    "- Hypertension: {row['hypertension']}\n",
    "- Heart Disease: {row['heart_disease']}\n",
    "- Ever Married: {row['ever_married']}\n",
    "- Work Type: {row['work_type']}\n",
    "- Residence Type: {row['Residence_type']}\n",
    "- Average Glucose Level: {row['avg_glucose_level']}\n",
    "- BMI: {row['bmi']}\n",
    "- Smoking Status: {row['smoking_status']}\n",
    "\n",
    "Prediction:\n",
    "\"\"\"\n",
    "\n",
    "    response = llm.invoke([\n",
    "        {\"role\": \"system\", \"content\": \"You are a medical expert specialized in stroke prediction.\"},\n",
    "        {\"role\": \"user\", \"content\": prompt}\n",
    "    ])\n",
    "\n",
    "    output = response.content.strip()\n",
    "\n",
    "    # Naive binary extraction (adjust based on your LLM's style)\n",
    "    return int('1' in output.split('\\n')[0])\n"
   ]
  },
  {
   "cell_type": "code",
   "execution_count": 6,
   "id": "bbf99579",
   "metadata": {},
   "outputs": [],
   "source": [
    "preds = features_sample.apply(lambda row: predict_stroke_llm(row, llm), axis=1)"
   ]
  },
  {
   "cell_type": "code",
   "execution_count": 7,
   "id": "3454cce8",
   "metadata": {},
   "outputs": [
    {
     "name": "stdout",
     "output_type": "stream",
     "text": [
      "Accuracy: 0.61\n"
     ]
    }
   ],
   "source": [
    "acc = accuracy_score(target_sample, preds)\n",
    "print(f\"Accuracy: {acc:.2f}\")"
   ]
  },
  {
   "cell_type": "code",
   "execution_count": null,
   "id": "4308e5be",
   "metadata": {},
   "outputs": [],
   "source": []
  }
 ],
 "metadata": {
  "kernelspec": {
   "display_name": "Python 3",
   "language": "python",
   "name": "python3"
  },
  "language_info": {
   "codemirror_mode": {
    "name": "ipython",
    "version": 3
   },
   "file_extension": ".py",
   "mimetype": "text/x-python",
   "name": "python",
   "nbconvert_exporter": "python",
   "pygments_lexer": "ipython3",
   "version": "3.11.9"
  }
 },
 "nbformat": 4,
 "nbformat_minor": 5
}
