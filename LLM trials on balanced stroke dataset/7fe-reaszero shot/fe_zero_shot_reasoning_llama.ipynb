{
 "cells": [
  {
   "cell_type": "code",
   "execution_count": 1,
   "id": "a1be6582",
   "metadata": {},
   "outputs": [],
   "source": [
    "import pandas as pd\n",
    "from sklearn.metrics import accuracy_score"
   ]
  },
  {
   "cell_type": "code",
   "execution_count": 2,
   "id": "48c0af26",
   "metadata": {},
   "outputs": [],
   "source": [
    "df = pd.read_csv('stroke_balanced_sample.csv')\n",
    "\n",
    "\n",
    "target = df['stroke']\n",
    "features = df.drop(columns=['stroke'])\n"
   ]
  },
  {
   "cell_type": "code",
   "execution_count": 3,
   "id": "6f231e66",
   "metadata": {},
   "outputs": [],
   "source": [
    "features_sample = features.head(100)\n",
    "target_sample = target.head(100)"
   ]
  },
  {
   "cell_type": "code",
   "execution_count": 4,
   "id": "920e8b68",
   "metadata": {},
   "outputs": [],
   "source": [
    "from langchain_ollama import ChatOllama\n",
    "\n",
    "llm = ChatOllama(model = \"llama3.1:latest\")\n",
    "\n",
    "def predict_stroke_llm(row, llm):\n",
    "    prompt = f\"\"\"\n",
    "You are a medical AI assistant helping assess stroke risk. You will analyze patient data, assign a numerical risk score to each feature, sum the total risk, and then classify stroke likelihood as 0 (no stroke) or 1 (likely stroke). Think step-by-step and explain your reasoning.\n",
    "\n",
    "### Instructions:\n",
    "Step 1: Assign risk scores (0 to 2) for each of these:\n",
    "- Age (0 = under 50, 1 = 50–65, 2 = over 65)\n",
    "- Hypertension (0 = no, 2 = yes)\n",
    "- Heart Disease (0 = no, 2 = yes)\n",
    "- Average Glucose Level (0 = < 140, 1 = 140–200, 2 = > 200)\n",
    "- BMI (0 = under 25, 1 = 25–30, 2 = over 30)\n",
    "- Smoking Status (0 = never smoked, 1 = formerly smoked, 2 = smokes)\n",
    "\n",
    "Step 2: Sum total risk score (0–12).\n",
    "Step 3: If total score ≥ 5 → Prediction = 1 (stroke likely). Else → Prediction = 0.\n",
    "Step 4: Format your final answer: \"Prediction: [0 or 1] - [reason]\"\n",
    "\n",
    "Patient data:\n",
    "- Gender: {row['gender']}\n",
    "- Age: {row['age']}\n",
    "- Hypertension: {row['hypertension']}\n",
    "- Heart Disease: {row['heart_disease']}\n",
    "- Ever Married: {row['ever_married']}\n",
    "- Work Type: {row['work_type']}\n",
    "- Residence Type: {row['Residence_type']}\n",
    "- Average Glucose Level: {row['avg_glucose_level']}\n",
    "- BMI: {row['bmi']}\n",
    "- Smoking Status: {row['smoking_status']}\n",
    "\n",
    "Now perform the feature-based scoring, sum the risk, and provide your prediction.\n",
    "\"\"\"\n",
    "\n",
    "    response = llm.invoke([\n",
    "        {\"role\": \"system\", \"content\": \"You are a medical AI expert in stroke risk assessment using structured reasoning.\"},\n",
    "        {\"role\": \"user\", \"content\": prompt}\n",
    "    ])\n",
    "\n",
    "    output = response.content.strip()\n",
    "\n",
    "    # Extract the final prediction\n",
    "    if output.startswith(\"Prediction:\"):\n",
    "        label_line = output.splitlines()[0]\n",
    "    else:\n",
    "        label_line = next((line for line in output.splitlines() if \"Prediction\" in line), \"\")\n",
    "\n",
    "    return int('1' in label_line.split()[1]) if 'Prediction' in label_line else -1\n"
   ]
  },
  {
   "cell_type": "code",
   "execution_count": 5,
   "id": "bbf99579",
   "metadata": {},
   "outputs": [],
   "source": [
    "preds = features_sample.apply(lambda row: predict_stroke_llm(row, llm), axis=1)"
   ]
  },
  {
   "cell_type": "code",
   "execution_count": 7,
   "id": "3454cce8",
   "metadata": {},
   "outputs": [
    {
     "name": "stdout",
     "output_type": "stream",
     "text": [
      "Accuracy: 0.55\n"
     ]
    }
   ],
   "source": [
    "acc = accuracy_score(target_sample, preds)\n",
    "print(f\"Accuracy: {acc:.2f}\")"
   ]
  },
  {
   "cell_type": "code",
   "execution_count": null,
   "id": "4308e5be",
   "metadata": {},
   "outputs": [],
   "source": []
  }
 ],
 "metadata": {
  "kernelspec": {
   "display_name": "Python 3",
   "language": "python",
   "name": "python3"
  },
  "language_info": {
   "codemirror_mode": {
    "name": "ipython",
    "version": 3
   },
   "file_extension": ".py",
   "mimetype": "text/x-python",
   "name": "python",
   "nbconvert_exporter": "python",
   "pygments_lexer": "ipython3",
   "version": "3.11.9"
  }
 },
 "nbformat": 4,
 "nbformat_minor": 5
}
