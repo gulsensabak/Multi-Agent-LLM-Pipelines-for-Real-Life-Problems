{
 "cells": [
  {
   "cell_type": "code",
   "execution_count": 1,
   "id": "1d57a643",
   "metadata": {},
   "outputs": [],
   "source": [
    "import pandas as pd\n",
    "from openai import OpenAI\n",
    "from sklearn.metrics import accuracy_score"
   ]
  },
  {
   "cell_type": "code",
   "execution_count": null,
   "id": "47514266",
   "metadata": {},
   "outputs": [],
   "source": [
    "client = OpenAI(api_key = 'sk-proj-')"
   ]
  },
  {
   "cell_type": "code",
   "execution_count": 3,
   "id": "b065e01a",
   "metadata": {},
   "outputs": [],
   "source": [
    "df = pd.read_csv('Heart_failure_clinical_records_dataset.csv')\n",
    "\n",
    "\n",
    "target = df['DEATH_EVENT']\n",
    "features = df.drop(columns=['DEATH_EVENT'])\n"
   ]
  },
  {
   "cell_type": "code",
   "execution_count": 4,
   "id": "ddb3d20b",
   "metadata": {},
   "outputs": [],
   "source": [
    "features_sample = features.head(300)\n",
    "target_sample = target.head(300)"
   ]
  },
  {
   "cell_type": "code",
   "execution_count": 5,
   "id": "dcc01ef6",
   "metadata": {},
   "outputs": [],
   "source": [
    "def llm_predict(row):\n",
    "    prompt = f\"\"\"You are given the clinical data of a patient suffering from heart failure. \n",
    "Your task is to predict whether the patient will experience a death event (binary classification: 0 = no, 1 = yes).\n",
    "\n",
    "Analyze the patient's full clinical profile carefully, considering all these factors:\n",
    "\n",
    "- Age: Higher age increases mortality risk.\n",
    "- Anaemia: 1 = Anemia present, 0 = No anemia. Anemia increases risk.\n",
    "- Creatinine Phosphokinase: Very high levels may indicate heart or muscle injury.\n",
    "- Diabetes: 1 = Diabetic, 0 = Non-diabetic. Diabetes worsens heart outcomes.\n",
    "- Ejection Fraction: Lower percentages mean poorer heart function.\n",
    "- High Blood Pressure: 1 = Hypertension present, 0 = Normal blood pressure.\n",
    "- Platelets: Abnormal platelet counts may suggest additional risks.\n",
    "- Serum Creatinine: Elevated levels indicate kidney dysfunction.\n",
    "- Serum Sodium: Low sodium suggests worse heart failure condition.\n",
    "- Sex: 1 = Male, 0 = Female. Slight differences in mortality risk.\n",
    "- Smoking: 1 = Smoker, 0 = Non-smoker. Smoking worsens outcomes.\n",
    "- Time: Follow-up period in days. Longer survival indicates better prognosis if no early death.\n",
    "\n",
    "Follow this step-by-step reasoning process:\n",
    "\n",
    "1. Identify and assess the patient's risk factors based on the above features.\n",
    "2. Evaluate whether the combination of factors suggests a high or low risk of mortality.\n",
    "3. Make a final prediction: 0 (no death event) or 1 (death event).\n",
    "\n",
    "Examples:\n",
    "\n",
    "---\n",
    "\n",
    "Patient Data:\n",
    "- Age: 80\n",
    "- Anaemia: 1\n",
    "- Creatinine Phosphokinase: 250\n",
    "- Diabetes: 1\n",
    "- Ejection Fraction: 20\n",
    "- High Blood Pressure: 1\n",
    "- Platelets: 150000\n",
    "- Serum Creatinine: 3.0\n",
    "- Serum Sodium: 130\n",
    "- Sex: 1\n",
    "- Smoking: 1\n",
    "- Time: 10\n",
    "\n",
    "Reasoning:\n",
    "- Very high age (80 years).\n",
    "- Anemia is present.\n",
    "- Moderate CPK elevation (250 mcg/L).\n",
    "- Diabetes is present.\n",
    "- Extremely low ejection fraction (20%).\n",
    "- Hypertension is present.\n",
    "- Platelet count normal.\n",
    "- High serum creatinine suggests kidney dysfunction.\n",
    "- Low sodium (130) indicates hyponatremia.\n",
    "- Male and smoker status increase risk.\n",
    "- Very short follow-up time (10 days) hints acute situation.\n",
    "\n",
    "Prediction: 1 (death event)\n",
    "\n",
    "---\n",
    "\n",
    "Patient Data:\n",
    "- Age: 45\n",
    "- Anaemia: 0\n",
    "- Creatinine Phosphokinase: 120\n",
    "- Diabetes: 0\n",
    "- Ejection Fraction: 55\n",
    "- High Blood Pressure: 0\n",
    "- Platelets: 270000\n",
    "- Serum Creatinine: 0.9\n",
    "- Serum Sodium: 140\n",
    "- Sex: 0\n",
    "- Smoking: 0\n",
    "- Time: 250\n",
    "\n",
    "Reasoning:\n",
    "- Relatively young age (45 years).\n",
    "- No anemia.\n",
    "- Normal CPK level.\n",
    "- No diabetes.\n",
    "- Normal ejection fraction (55%), indicating good heart function.\n",
    "- No hypertension.\n",
    "- Normal platelet count.\n",
    "- Normal kidney function (serum creatinine 0.9).\n",
    "- Normal serum sodium (140).\n",
    "- Non-smoker, female.\n",
    "- Very long follow-up time (250 days) without adverse events.\n",
    "\n",
    "Prediction: 0 (no death event)\n",
    "\n",
    "---\n",
    "\n",
    "Now, here is the patient's data you need to predict:\n",
    "\n",
    "- Age: {row['age']}\n",
    "- Anaemia: {row['anaemia']}\n",
    "- Creatinine Phosphokinase: {row['creatinine_phosphokinase']}\n",
    "- Diabetes: {row['diabetes']}\n",
    "- Ejection Fraction: {row['ejection_fraction']}\n",
    "- High Blood Pressure: {row['high_blood_pressure']}\n",
    "- Platelets: {row['platelets']}\n",
    "- Serum Creatinine: {row['serum_creatinine']}\n",
    "- Serum Sodium: {row['serum_sodium']}\n",
    "- Sex: {row['sex']}\n",
    "- Smoking: {row['smoking']}\n",
    "- Time: {row['time']}\n",
    "\n",
    "Please provide your step-by-step reasoning and final prediction.\n",
    "\"\"\"\n",
    "\n",
    "    response = client.chat.completions.create(\n",
    "        model=\"gpt-4o\",  # or \"gpt-4\"\n",
    "        messages=[\n",
    "            {\"role\": \"system\", \"content\": \"You are a medical assistant specialized in analyzing heart failure patient data to predict death events.\"},\n",
    "            {\"role\": \"user\", \"content\": prompt}\n",
    "        ],\n",
    "        temperature=0.3\n",
    "    )\n",
    "\n",
    "    output = response.choices[0].message.content.strip()\n",
    "    return int('1' in output)\n"
   ]
  },
  {
   "cell_type": "code",
   "execution_count": 6,
   "id": "d82ed475",
   "metadata": {},
   "outputs": [],
   "source": [
    "preds = features_sample.apply(llm_predict, axis=1)"
   ]
  },
  {
   "cell_type": "code",
   "execution_count": 7,
   "id": "f33544bf",
   "metadata": {},
   "outputs": [
    {
     "name": "stdout",
     "output_type": "stream",
     "text": [
      "Accuracy: 0.32\n"
     ]
    }
   ],
   "source": [
    "acc = accuracy_score(target_sample, preds)\n",
    "print(f\"Accuracy: {acc:.2f}\")"
   ]
  }
 ],
 "metadata": {
  "kernelspec": {
   "display_name": "Python 3",
   "language": "python",
   "name": "python3"
  },
  "language_info": {
   "codemirror_mode": {
    "name": "ipython",
    "version": 3
   },
   "file_extension": ".py",
   "mimetype": "text/x-python",
   "name": "python",
   "nbconvert_exporter": "python",
   "pygments_lexer": "ipython3",
   "version": "3.11.9"
  }
 },
 "nbformat": 4,
 "nbformat_minor": 5
}
