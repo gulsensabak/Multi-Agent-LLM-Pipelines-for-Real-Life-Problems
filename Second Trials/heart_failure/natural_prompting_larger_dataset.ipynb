{
 "cells": [
  {
   "cell_type": "code",
   "execution_count": 1,
   "id": "1d57a643",
   "metadata": {},
   "outputs": [],
   "source": [
    "import pandas as pd\n",
    "from openai import OpenAI\n",
    "from sklearn.metrics import accuracy_score"
   ]
  },
  {
   "cell_type": "code",
   "execution_count": null,
   "id": "47514266",
   "metadata": {},
   "outputs": [],
   "source": [
    "client = OpenAI(api_key = 'sk-proj-')"
   ]
  },
  {
   "cell_type": "code",
   "execution_count": 3,
   "id": "b065e01a",
   "metadata": {},
   "outputs": [],
   "source": [
    "df = pd.read_csv('Heart_failure_clinical_records_dataset.csv')\n",
    "\n",
    "\n",
    "target = df['DEATH_EVENT']\n",
    "features = df.drop(columns=['DEATH_EVENT'])\n"
   ]
  },
  {
   "cell_type": "code",
   "execution_count": 4,
   "id": "ddb3d20b",
   "metadata": {},
   "outputs": [],
   "source": [
    "features_sample = features.head(50)\n",
    "target_sample = target.head(50)"
   ]
  },
  {
   "cell_type": "code",
   "execution_count": 5,
   "id": "dcc01ef6",
   "metadata": {},
   "outputs": [],
   "source": [
    "def llm_predict(row):\n",
    "    prompt = f\"\"\"You are given a patient's clinical profile after heart failure diagnosis. Your task is to predict if the patient will have a death event.\n",
    "Use clinical knowledge: lower ejection fraction, higher serum creatinine, anemia, advanced age, and high blood pressure are all risk factors.\n",
    "Longer follow-up time may suggest better survival unless other factors are severe.\n",
    "\n",
    "Format your output as a single number: 0 (no death event) or 1 (death event).\"\"\"\n",
    "    \n",
    "    response = client.chat.completions.create(\n",
    "        model=\"gpt-3.5-turbo\",  # or \"gpt-4\"\n",
    "        messages=[\n",
    "            {\"role\": \"system\", \"content\": \"You are given the clinical data of a patient suffering from heart failure.\"},\n",
    "            {\"role\": \"user\", \"content\": prompt}\n",
    "        ],\n",
    "        temperature=0\n",
    "    )\n",
    "    \n",
    "    output = response.choices[0].message.content.strip()\n",
    "    return int('1' in output)"
   ]
  },
  {
   "cell_type": "code",
   "execution_count": 6,
   "id": "d82ed475",
   "metadata": {},
   "outputs": [],
   "source": [
    "preds = features_sample.apply(llm_predict, axis=1)"
   ]
  },
  {
   "cell_type": "code",
   "execution_count": 7,
   "id": "f33544bf",
   "metadata": {},
   "outputs": [
    {
     "name": "stdout",
     "output_type": "stream",
     "text": [
      "Accuracy: 0.88\n"
     ]
    }
   ],
   "source": [
    "acc = accuracy_score(target_sample, preds)\n",
    "print(f\"Accuracy: {acc:.2f}\")"
   ]
  }
 ],
 "metadata": {
  "kernelspec": {
   "display_name": "Python 3",
   "language": "python",
   "name": "python3"
  },
  "language_info": {
   "codemirror_mode": {
    "name": "ipython",
    "version": 3
   },
   "file_extension": ".py",
   "mimetype": "text/x-python",
   "name": "python",
   "nbconvert_exporter": "python",
   "pygments_lexer": "ipython3",
   "version": "3.11.9"
  }
 },
 "nbformat": 4,
 "nbformat_minor": 5
}
