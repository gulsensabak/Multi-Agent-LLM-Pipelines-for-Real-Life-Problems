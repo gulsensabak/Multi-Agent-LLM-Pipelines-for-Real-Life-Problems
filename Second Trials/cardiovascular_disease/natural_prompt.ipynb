{
 "cells": [
  {
   "cell_type": "code",
   "execution_count": 1,
   "id": "1d57a643",
   "metadata": {},
   "outputs": [],
   "source": [
    "import pandas as pd\n",
    "from openai import OpenAI\n",
    "from sklearn.metrics import accuracy_score"
   ]
  },
  {
   "cell_type": "code",
   "execution_count": null,
   "id": "47514266",
   "metadata": {},
   "outputs": [],
   "source": [
    "client = OpenAI(api_key = 'sk-proj-')"
   ]
  },
  {
   "cell_type": "code",
   "execution_count": 3,
   "id": "3cc7e851",
   "metadata": {},
   "outputs": [
    {
     "name": "stdout",
     "output_type": "stream",
     "text": [
      "Index(['id;age;gender;height;weight;ap_hi;ap_lo;cholesterol;gluc;smoke;alco;active;cardio'], dtype='object')\n"
     ]
    }
   ],
   "source": [
    "df = pd.read_csv('cardio_train.csv')\n",
    "print(df.columns)"
   ]
  },
  {
   "cell_type": "code",
   "execution_count": 4,
   "id": "b065e01a",
   "metadata": {},
   "outputs": [],
   "source": [
    "df = pd.read_csv('cardio_train.csv', delimiter=';')\n",
    "\n",
    "\n",
    "target = df['cardio']\n",
    "features = df.drop(columns=['cardio'])\n"
   ]
  },
  {
   "cell_type": "code",
   "execution_count": 5,
   "id": "ddb3d20b",
   "metadata": {},
   "outputs": [],
   "source": [
    "features_sample = features.sample(n=60, random_state=42)\n",
    "target_sample = target.loc[features_sample.index]"
   ]
  },
  {
   "cell_type": "code",
   "execution_count": 6,
   "id": "dcc01ef6",
   "metadata": {},
   "outputs": [],
   "source": [
    "def llm_predict_cardiovascular(row):\n",
    "    prompt = f\"\"\"You are given clinical data of a patient. Predict if they have cardiovascular disease.\n",
    "\n",
    "Risk factors to consider:\n",
    "- Advanced age (>55 years)\n",
    "- Elevated blood pressure (≥140/90)\n",
    "- High cholesterol and glucose levels\n",
    "- Obesity (BMI ≥30)\n",
    "- Smoking, alcohol intake, and physical inactivity\n",
    "\n",
    "Analyze the clinical profile holistically and consider how multiple risk factors may compound.\n",
    "\n",
    "Format your output as a single number: 0 (no cardiovascular disease) or 1 (cardiovascular disease).\"\"\"\n",
    "\n",
    "    response = client.chat.completions.create(\n",
    "        model=\"gpt-4o\",\n",
    "        messages=[\n",
    "            {\"role\": \"system\", \"content\": \"You are a medical assistant specialized in analyzing cardiovascular health data to predict cardiovascular disease.\"},\n",
    "            {\"role\": \"user\", \"content\": prompt}\n",
    "        ],\n",
    "        temperature=0\n",
    "    )\n",
    "\n",
    "    output = response.choices[0].message.content.strip()\n",
    "    \n",
    "    # Extract prediction using a more reliable method\n",
    "    import re\n",
    "    match = re.search(r\"FINAL_PREDICTION:\\s*([01])\", output)\n",
    "    if match:\n",
    "        return int(match.group(1))\n",
    "    else:\n",
    "        # Fallback: analyze text for prediction evidence\n",
    "        cardio_indicators = [\"cardiovascular disease\", \"high risk\", \"predict: 1\", \"prediction: 1\"]\n",
    "        for indicator in cardio_indicators:\n",
    "            if indicator in output.lower():\n",
    "                return 1\n",
    "        return 0"
   ]
  },
  {
   "cell_type": "code",
   "execution_count": 7,
   "id": "b119b0d6",
   "metadata": {},
   "outputs": [],
   "source": [
    "from sklearn.metrics import accuracy_score, precision_score, recall_score, f1_score, confusion_matrix\n",
    "\n",
    "def evaluate_model(y_true, y_pred):\n",
    "    acc = accuracy_score(y_true, y_pred)\n",
    "    prec = precision_score(y_true, y_pred)\n",
    "    rec = recall_score(y_true, y_pred)\n",
    "    f1 = f1_score(y_true, y_pred)\n",
    "    cm = confusion_matrix(y_true, y_pred)\n",
    "    \n",
    "    print(f\"Accuracy: {acc:.2f}\")\n",
    "    print(f\"Precision: {prec:.2f}\")\n",
    "    print(f\"Recall: {rec:.2f}\")\n",
    "    print(f\"F1 Score: {f1:.2f}\")\n",
    "    print(f\"Confusion Matrix:\")\n",
    "    print(cm)\n",
    "    \n",
    "    return acc, prec, rec, f1, cm"
   ]
  },
  {
   "cell_type": "code",
   "execution_count": 8,
   "id": "d82ed475",
   "metadata": {},
   "outputs": [
    {
     "name": "stdout",
     "output_type": "stream",
     "text": [
      "Accuracy: 0.53\n",
      "Precision: 0.60\n",
      "Recall: 0.10\n",
      "F1 Score: 0.18\n",
      "Confusion Matrix:\n",
      "[[29  2]\n",
      " [26  3]]\n"
     ]
    },
    {
     "data": {
      "text/plain": [
       "(0.5333333333333333,\n",
       " 0.6,\n",
       " 0.10344827586206896,\n",
       " 0.17647058823529413,\n",
       " array([[29,  2],\n",
       "        [26,  3]], dtype=int64))"
      ]
     },
     "execution_count": 8,
     "metadata": {},
     "output_type": "execute_result"
    }
   ],
   "source": [
    "# Step 1: Generate predictions using the improved function\n",
    "preds_improved = features_sample.apply(llm_predict_cardiovascular, axis=1)\n",
    "\n",
    "# Step 2: Evaluate the model with the new predictions\n",
    "evaluate_model(target_sample, preds_improved)"
   ]
  }
 ],
 "metadata": {
  "kernelspec": {
   "display_name": "Python 3",
   "language": "python",
   "name": "python3"
  },
  "language_info": {
   "codemirror_mode": {
    "name": "ipython",
    "version": 3
   },
   "file_extension": ".py",
   "mimetype": "text/x-python",
   "name": "python",
   "nbconvert_exporter": "python",
   "pygments_lexer": "ipython3",
   "version": "3.11.9"
  }
 },
 "nbformat": 4,
 "nbformat_minor": 5
}
